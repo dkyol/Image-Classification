{
 "cells": [
  {
   "cell_type": "code",
   "execution_count": 74,
   "metadata": {},
   "outputs": [],
   "source": [
    "#Transfer Learnign Model Keras\n",
    "\n",
    "from keras.preprocessing.image import ImageDataGenerator\n",
    "from keras.models import Sequential\n",
    "from keras.layers import Dropout, Flatten, Dense\n",
    "from keras import applications\n",
    "from keras import backend as K\n",
    "import numpy as np\n"
   ]
  },
  {
   "cell_type": "code",
   "execution_count": 75,
   "metadata": {},
   "outputs": [],
   "source": [
    "img_width, img_height = 32, 32\n",
    "\n",
    "top_model_weights_path = 'bottleneck_fc_model.h5'\n",
    "train_data_dir = 'C:/Users/dm12505/Desktop/val'\n",
    "validation_data_dir = 'C:/Users/dm12505/Desktop/val'\n",
    "nb_train_samples = 6\n",
    "nb_validation_samples = 6\n",
    "epochs = 50\n",
    "batch_size = 1\n",
    "test_dir = 'C:/Users/dm12505/Desktop/test1'\n",
    "nb_test_samples = 6\n",
    "test_batch_size = 1\n"
   ]
  },
  {
   "cell_type": "code",
   "execution_count": 76,
   "metadata": {},
   "outputs": [],
   "source": [
    "if K.image_data_format() == 'channels_first':\n",
    "    input_shape = (3, img_width, img_height)\n",
    "else:\n",
    "    input_shape = (img_width, img_height, 3)"
   ]
  },
  {
   "cell_type": "code",
   "execution_count": 77,
   "metadata": {},
   "outputs": [
    {
     "name": "stdout",
     "output_type": "stream",
     "text": [
      "_________________________________________________________________\n",
      "Layer (type)                 Output Shape              Param #   \n",
      "=================================================================\n",
      "input_5 (InputLayer)         (None, None, None, 3)     0         \n",
      "_________________________________________________________________\n",
      "block1_conv1 (Conv2D)        (None, None, None, 64)    1792      \n",
      "_________________________________________________________________\n",
      "block1_conv2 (Conv2D)        (None, None, None, 64)    36928     \n",
      "_________________________________________________________________\n",
      "block1_pool (MaxPooling2D)   (None, None, None, 64)    0         \n",
      "_________________________________________________________________\n",
      "block2_conv1 (Conv2D)        (None, None, None, 128)   73856     \n",
      "_________________________________________________________________\n",
      "block2_conv2 (Conv2D)        (None, None, None, 128)   147584    \n",
      "_________________________________________________________________\n",
      "block2_pool (MaxPooling2D)   (None, None, None, 128)   0         \n",
      "_________________________________________________________________\n",
      "block3_conv1 (Conv2D)        (None, None, None, 256)   295168    \n",
      "_________________________________________________________________\n",
      "block3_conv2 (Conv2D)        (None, None, None, 256)   590080    \n",
      "_________________________________________________________________\n",
      "block3_conv3 (Conv2D)        (None, None, None, 256)   590080    \n",
      "_________________________________________________________________\n",
      "block3_pool (MaxPooling2D)   (None, None, None, 256)   0         \n",
      "_________________________________________________________________\n",
      "block4_conv1 (Conv2D)        (None, None, None, 512)   1180160   \n",
      "_________________________________________________________________\n",
      "block4_conv2 (Conv2D)        (None, None, None, 512)   2359808   \n",
      "_________________________________________________________________\n",
      "block4_conv3 (Conv2D)        (None, None, None, 512)   2359808   \n",
      "_________________________________________________________________\n",
      "block4_pool (MaxPooling2D)   (None, None, None, 512)   0         \n",
      "_________________________________________________________________\n",
      "block5_conv1 (Conv2D)        (None, None, None, 512)   2359808   \n",
      "_________________________________________________________________\n",
      "block5_conv2 (Conv2D)        (None, None, None, 512)   2359808   \n",
      "_________________________________________________________________\n",
      "block5_conv3 (Conv2D)        (None, None, None, 512)   2359808   \n",
      "_________________________________________________________________\n",
      "block5_pool (MaxPooling2D)   (None, None, None, 512)   0         \n",
      "=================================================================\n",
      "Total params: 14,714,688\n",
      "Trainable params: 14,714,688\n",
      "Non-trainable params: 0\n",
      "_________________________________________________________________\n"
     ]
    }
   ],
   "source": [
    "model = applications.VGG16(include_top=False, weights='imagenet')\n",
    "model.summary()"
   ]
  },
  {
   "cell_type": "code",
   "execution_count": 78,
   "metadata": {},
   "outputs": [
    {
     "name": "stdout",
     "output_type": "stream",
     "text": [
      "Found 6 images belonging to 2 classes.\n",
      "Found 6 images belonging to 2 classes.\n",
      "Found 6 images belonging to 2 classes.\n"
     ]
    }
   ],
   "source": [
    "# reading in image data from training and validation steps \n",
    "\n",
    "# use ImageDataGenerator to normalize/augment \n",
    "\n",
    "datagen = ImageDataGenerator(rescale=1. / 255)\n",
    "\n",
    "# use flow_from_directory method to resize/pre-process \n",
    "\n",
    "generator = datagen.flow_from_directory(\n",
    "        train_data_dir,\n",
    "        target_size=(img_width, img_height),\n",
    "        batch_size=batch_size,\n",
    "        class_mode=None,\n",
    "        shuffle=False)\n",
    "\n",
    "#use model predict to create bottleneck weights from VGG16 & save to .npy file\n",
    "\n",
    "bottleneck_features_train = model.predict_generator(\n",
    "        generator, nb_train_samples // batch_size)\n",
    "np.save(open('bottleneck_features_train.npy', 'wb'),\n",
    "            bottleneck_features_train)\n",
    "\n",
    "generator = datagen.flow_from_directory(\n",
    "        validation_data_dir,\n",
    "        target_size=(img_width, img_height),\n",
    "        batch_size=batch_size,\n",
    "        class_mode=None,\n",
    "        shuffle=False)\n",
    "\n",
    "bottleneck_features_validation = model.predict_generator(\n",
    "        generator, nb_validation_samples // batch_size)\n",
    "np.save(open('bottleneck_features_validation.npy', 'wb'), bottleneck_features_validation)\n",
    "\n",
    "generator = datagen.flow_from_directory(\n",
    "        test_dir,\n",
    "        target_size=(img_width, img_height),\n",
    "        batch_size=batch_size,\n",
    "        class_mode=None,\n",
    "        shuffle=False)\n",
    "\n",
    "bottleneck_features_test = model.predict_generator(\n",
    "        generator, nb_test_samples // batch_size)\n",
    "np.save(open('bottleneck_features_test.npy', 'wb'), bottleneck_features_test)\n",
    "\n"
   ]
  },
  {
   "cell_type": "code",
   "execution_count": 79,
   "metadata": {},
   "outputs": [],
   "source": [
    "# train and create labels in sequential order\n",
    "\n",
    "# cats 0; dogs 1 \n",
    "\n",
    "train_data = np.load(open('bottleneck_features_train.npy','rb'))\n",
    "train_labels = np.array([0] * (nb_train_samples // 2) + [1] * (nb_train_samples // 2))\n",
    "\n",
    "validation_data = np.load(open('bottleneck_features_validation.npy','rb'))\n",
    "validation_labels = np.array([0] * (nb_validation_samples // 2) + [1] * (nb_validation_samples // 2))\n",
    "\n",
    "test_data = np.load(open('bottleneck_features_test.npy','rb'))\n",
    "test_labels = np.array([0] * (nb_test_samples // 2) + [1] * (nb_test_samples // 2))\n",
    "\n"
   ]
  },
  {
   "cell_type": "code",
   "execution_count": 80,
   "metadata": {},
   "outputs": [
    {
     "name": "stdout",
     "output_type": "stream",
     "text": [
      "(6, 1, 1, 512)\n",
      "(6,)\n",
      "(6, 1, 1, 512)\n",
      "(6,)\n",
      "(6, 1, 1, 512)\n",
      "(6,)\n"
     ]
    }
   ],
   "source": [
    "print(train_data.shape)\n",
    "print(train_labels.shape)\n",
    "print(validation_data.shape)\n",
    "print(validation_labels.shape)\n",
    "\n",
    "print(test_data.shape)\n",
    "print(test_labels.shape)"
   ]
  },
  {
   "cell_type": "code",
   "execution_count": 81,
   "metadata": {},
   "outputs": [
    {
     "name": "stdout",
     "output_type": "stream",
     "text": [
      "_________________________________________________________________\n",
      "Layer (type)                 Output Shape              Param #   \n",
      "=================================================================\n",
      "flatten_5 (Flatten)          (None, 512)               0         \n",
      "_________________________________________________________________\n",
      "dense_9 (Dense)              (None, 256)               131328    \n",
      "_________________________________________________________________\n",
      "dropout_5 (Dropout)          (None, 256)               0         \n",
      "_________________________________________________________________\n",
      "dense_10 (Dense)             (None, 1)                 257       \n",
      "=================================================================\n",
      "Total params: 131,585\n",
      "Trainable params: 131,585\n",
      "Non-trainable params: 0\n",
      "_________________________________________________________________\n"
     ]
    }
   ],
   "source": [
    "# create dense fully connected model to add to base pre-configured model \n",
    "# inputs from trained bottled features\n",
    "\n",
    "model = Sequential()\n",
    "model.add(Flatten(input_shape=train_data.shape[1:]))\n",
    "model.add(Dense(256, activation='relu'))\n",
    "model.add(Dropout(0.5))\n",
    "model.add(Dense(1, activation='sigmoid'))\n",
    "model.summary()\n",
    "\n",
    "model.compile(optimizer='adam', loss='binary_crossentropy', metrics=['accuracy'])\n"
   ]
  },
  {
   "cell_type": "code",
   "execution_count": 82,
   "metadata": {},
   "outputs": [
    {
     "name": "stdout",
     "output_type": "stream",
     "text": [
      "Train on 6 samples, validate on 6 samples\n",
      "Epoch 1/50\n",
      " - 0s - loss: 0.7627 - acc: 0.8333 - val_loss: 0.4969 - val_acc: 0.8333\n",
      "\n",
      "Epoch 00001: val_loss improved from inf to 0.49692, saving model to model.weights.best.hdf5\n",
      "Epoch 2/50\n",
      " - 0s - loss: 0.5111 - acc: 0.8333 - val_loss: 0.3463 - val_acc: 1.0000\n",
      "\n",
      "Epoch 00002: val_loss improved from 0.49692 to 0.34630, saving model to model.weights.best.hdf5\n",
      "Epoch 3/50\n",
      " - 0s - loss: 0.3923 - acc: 0.8333 - val_loss: 0.2560 - val_acc: 1.0000\n",
      "\n",
      "Epoch 00003: val_loss improved from 0.34630 to 0.25596, saving model to model.weights.best.hdf5\n",
      "Epoch 4/50\n",
      " - 0s - loss: 0.2583 - acc: 1.0000 - val_loss: 0.1957 - val_acc: 1.0000\n",
      "\n",
      "Epoch 00004: val_loss improved from 0.25596 to 0.19566, saving model to model.weights.best.hdf5\n",
      "Epoch 5/50\n",
      " - 0s - loss: 0.2482 - acc: 1.0000 - val_loss: 0.1523 - val_acc: 1.0000\n",
      "\n",
      "Epoch 00005: val_loss improved from 0.19566 to 0.15231, saving model to model.weights.best.hdf5\n",
      "Epoch 6/50\n",
      " - 0s - loss: 0.1526 - acc: 1.0000 - val_loss: 0.1144 - val_acc: 1.0000\n",
      "\n",
      "Epoch 00006: val_loss improved from 0.15231 to 0.11445, saving model to model.weights.best.hdf5\n",
      "Epoch 7/50\n",
      " - 0s - loss: 0.1207 - acc: 1.0000 - val_loss: 0.0907 - val_acc: 1.0000\n",
      "\n",
      "Epoch 00007: val_loss improved from 0.11445 to 0.09073, saving model to model.weights.best.hdf5\n",
      "Epoch 8/50\n",
      " - 0s - loss: 0.1001 - acc: 1.0000 - val_loss: 0.0751 - val_acc: 1.0000\n",
      "\n",
      "Epoch 00008: val_loss improved from 0.09073 to 0.07505, saving model to model.weights.best.hdf5\n",
      "Epoch 9/50\n",
      " - 0s - loss: 0.0569 - acc: 1.0000 - val_loss: 0.0654 - val_acc: 1.0000\n",
      "\n",
      "Epoch 00009: val_loss improved from 0.07505 to 0.06537, saving model to model.weights.best.hdf5\n",
      "Epoch 10/50\n",
      " - 0s - loss: 0.0526 - acc: 1.0000 - val_loss: 0.0585 - val_acc: 1.0000\n",
      "\n",
      "Epoch 00010: val_loss improved from 0.06537 to 0.05846, saving model to model.weights.best.hdf5\n",
      "Epoch 11/50\n",
      " - 0s - loss: 0.0412 - acc: 1.0000 - val_loss: 0.0490 - val_acc: 1.0000\n",
      "\n",
      "Epoch 00011: val_loss improved from 0.05846 to 0.04895, saving model to model.weights.best.hdf5\n",
      "Epoch 12/50\n",
      " - 0s - loss: 0.0330 - acc: 1.0000 - val_loss: 0.0412 - val_acc: 1.0000\n",
      "\n",
      "Epoch 00012: val_loss improved from 0.04895 to 0.04119, saving model to model.weights.best.hdf5\n",
      "Epoch 13/50\n",
      " - 0s - loss: 0.0739 - acc: 1.0000 - val_loss: 0.0347 - val_acc: 1.0000\n",
      "\n",
      "Epoch 00013: val_loss improved from 0.04119 to 0.03473, saving model to model.weights.best.hdf5\n",
      "Epoch 14/50\n",
      " - 0s - loss: 0.0626 - acc: 1.0000 - val_loss: 0.0295 - val_acc: 1.0000\n",
      "\n",
      "Epoch 00014: val_loss improved from 0.03473 to 0.02947, saving model to model.weights.best.hdf5\n",
      "Epoch 15/50\n",
      " - 0s - loss: 0.0224 - acc: 1.0000 - val_loss: 0.0262 - val_acc: 1.0000\n",
      "\n",
      "Epoch 00015: val_loss improved from 0.02947 to 0.02617, saving model to model.weights.best.hdf5\n",
      "Epoch 16/50\n",
      " - 0s - loss: 0.0357 - acc: 1.0000 - val_loss: 0.0234 - val_acc: 1.0000\n",
      "\n",
      "Epoch 00016: val_loss improved from 0.02617 to 0.02342, saving model to model.weights.best.hdf5\n",
      "Epoch 17/50\n",
      " - 0s - loss: 0.0406 - acc: 1.0000 - val_loss: 0.0213 - val_acc: 1.0000\n",
      "\n",
      "Epoch 00017: val_loss improved from 0.02342 to 0.02131, saving model to model.weights.best.hdf5\n",
      "Epoch 18/50\n",
      " - 0s - loss: 0.0283 - acc: 1.0000 - val_loss: 0.0183 - val_acc: 1.0000\n",
      "\n",
      "Epoch 00018: val_loss improved from 0.02131 to 0.01828, saving model to model.weights.best.hdf5\n",
      "Epoch 19/50\n",
      " - 0s - loss: 0.0190 - acc: 1.0000 - val_loss: 0.0160 - val_acc: 1.0000\n",
      "\n",
      "Epoch 00019: val_loss improved from 0.01828 to 0.01596, saving model to model.weights.best.hdf5\n",
      "Epoch 20/50\n",
      " - 0s - loss: 0.0243 - acc: 1.0000 - val_loss: 0.0143 - val_acc: 1.0000\n",
      "\n",
      "Epoch 00020: val_loss improved from 0.01596 to 0.01429, saving model to model.weights.best.hdf5\n",
      "Epoch 21/50\n",
      " - 0s - loss: 0.0092 - acc: 1.0000 - val_loss: 0.0131 - val_acc: 1.0000\n",
      "\n",
      "Epoch 00021: val_loss improved from 0.01429 to 0.01311, saving model to model.weights.best.hdf5\n",
      "Epoch 22/50\n",
      " - 0s - loss: 0.0131 - acc: 1.0000 - val_loss: 0.0121 - val_acc: 1.0000\n",
      "\n",
      "Epoch 00022: val_loss improved from 0.01311 to 0.01212, saving model to model.weights.best.hdf5\n",
      "Epoch 23/50\n",
      " - 0s - loss: 0.0153 - acc: 1.0000 - val_loss: 0.0114 - val_acc: 1.0000\n",
      "\n",
      "Epoch 00023: val_loss improved from 0.01212 to 0.01139, saving model to model.weights.best.hdf5\n",
      "Epoch 24/50\n",
      " - 0s - loss: 0.0116 - acc: 1.0000 - val_loss: 0.0106 - val_acc: 1.0000\n",
      "\n",
      "Epoch 00024: val_loss improved from 0.01139 to 0.01064, saving model to model.weights.best.hdf5\n",
      "Epoch 25/50\n",
      " - 0s - loss: 0.0056 - acc: 1.0000 - val_loss: 0.0100 - val_acc: 1.0000\n",
      "\n",
      "Epoch 00025: val_loss improved from 0.01064 to 0.01000, saving model to model.weights.best.hdf5\n",
      "Epoch 26/50\n",
      " - 0s - loss: 0.0155 - acc: 1.0000 - val_loss: 0.0093 - val_acc: 1.0000\n",
      "\n",
      "Epoch 00026: val_loss improved from 0.01000 to 0.00932, saving model to model.weights.best.hdf5\n",
      "Epoch 27/50\n",
      " - 0s - loss: 0.0128 - acc: 1.0000 - val_loss: 0.0086 - val_acc: 1.0000\n",
      "\n",
      "Epoch 00027: val_loss improved from 0.00932 to 0.00858, saving model to model.weights.best.hdf5\n",
      "Epoch 28/50\n",
      " - 0s - loss: 0.0152 - acc: 1.0000 - val_loss: 0.0080 - val_acc: 1.0000\n",
      "\n",
      "Epoch 00028: val_loss improved from 0.00858 to 0.00801, saving model to model.weights.best.hdf5\n",
      "Epoch 29/50\n",
      " - 0s - loss: 0.0116 - acc: 1.0000 - val_loss: 0.0075 - val_acc: 1.0000\n",
      "\n",
      "Epoch 00029: val_loss improved from 0.00801 to 0.00751, saving model to model.weights.best.hdf5\n",
      "Epoch 30/50\n",
      " - 0s - loss: 0.0232 - acc: 1.0000 - val_loss: 0.0068 - val_acc: 1.0000\n",
      "\n",
      "Epoch 00030: val_loss improved from 0.00751 to 0.00676, saving model to model.weights.best.hdf5\n",
      "Epoch 31/50\n",
      " - 0s - loss: 0.0078 - acc: 1.0000 - val_loss: 0.0062 - val_acc: 1.0000\n",
      "\n",
      "Epoch 00031: val_loss improved from 0.00676 to 0.00623, saving model to model.weights.best.hdf5\n",
      "Epoch 32/50\n",
      " - 0s - loss: 0.0043 - acc: 1.0000 - val_loss: 0.0059 - val_acc: 1.0000\n",
      "\n",
      "Epoch 00032: val_loss improved from 0.00623 to 0.00592, saving model to model.weights.best.hdf5\n",
      "Epoch 33/50\n",
      " - 0s - loss: 0.0094 - acc: 1.0000 - val_loss: 0.0056 - val_acc: 1.0000\n",
      "\n",
      "Epoch 00033: val_loss improved from 0.00592 to 0.00565, saving model to model.weights.best.hdf5\n",
      "Epoch 34/50\n",
      " - 0s - loss: 0.0069 - acc: 1.0000 - val_loss: 0.0054 - val_acc: 1.0000\n",
      "\n",
      "Epoch 00034: val_loss improved from 0.00565 to 0.00537, saving model to model.weights.best.hdf5\n",
      "Epoch 35/50\n",
      " - 0s - loss: 0.0032 - acc: 1.0000 - val_loss: 0.0051 - val_acc: 1.0000\n",
      "\n",
      "Epoch 00035: val_loss improved from 0.00537 to 0.00509, saving model to model.weights.best.hdf5\n",
      "Epoch 36/50\n",
      " - 0s - loss: 0.0051 - acc: 1.0000 - val_loss: 0.0048 - val_acc: 1.0000\n",
      "\n",
      "Epoch 00036: val_loss improved from 0.00509 to 0.00482, saving model to model.weights.best.hdf5\n",
      "Epoch 37/50\n",
      " - 0s - loss: 0.0039 - acc: 1.0000 - val_loss: 0.0046 - val_acc: 1.0000\n",
      "\n",
      "Epoch 00037: val_loss improved from 0.00482 to 0.00461, saving model to model.weights.best.hdf5\n",
      "Epoch 38/50\n",
      " - 0s - loss: 0.0057 - acc: 1.0000 - val_loss: 0.0044 - val_acc: 1.0000\n",
      "\n",
      "Epoch 00038: val_loss improved from 0.00461 to 0.00436, saving model to model.weights.best.hdf5\n",
      "Epoch 39/50\n",
      " - 0s - loss: 0.0162 - acc: 1.0000 - val_loss: 0.0041 - val_acc: 1.0000\n",
      "\n",
      "Epoch 00039: val_loss improved from 0.00436 to 0.00415, saving model to model.weights.best.hdf5\n",
      "Epoch 40/50\n",
      " - 0s - loss: 0.0077 - acc: 1.0000 - val_loss: 0.0039 - val_acc: 1.0000\n",
      "\n",
      "Epoch 00040: val_loss improved from 0.00415 to 0.00390, saving model to model.weights.best.hdf5\n",
      "Epoch 41/50\n",
      " - 0s - loss: 0.0040 - acc: 1.0000 - val_loss: 0.0038 - val_acc: 1.0000\n",
      "\n",
      "Epoch 00041: val_loss improved from 0.00390 to 0.00377, saving model to model.weights.best.hdf5\n",
      "Epoch 42/50\n",
      " - 0s - loss: 0.0091 - acc: 1.0000 - val_loss: 0.0035 - val_acc: 1.0000\n",
      "\n",
      "Epoch 00042: val_loss improved from 0.00377 to 0.00352, saving model to model.weights.best.hdf5\n",
      "Epoch 43/50\n",
      " - 0s - loss: 0.0025 - acc: 1.0000 - val_loss: 0.0033 - val_acc: 1.0000\n",
      "\n",
      "Epoch 00043: val_loss improved from 0.00352 to 0.00332, saving model to model.weights.best.hdf5\n",
      "Epoch 44/50\n",
      " - 0s - loss: 0.0074 - acc: 1.0000 - val_loss: 0.0031 - val_acc: 1.0000\n",
      "\n",
      "Epoch 00044: val_loss improved from 0.00332 to 0.00311, saving model to model.weights.best.hdf5\n",
      "Epoch 45/50\n",
      " - 0s - loss: 0.0067 - acc: 1.0000 - val_loss: 0.0030 - val_acc: 1.0000\n",
      "\n",
      "Epoch 00045: val_loss improved from 0.00311 to 0.00298, saving model to model.weights.best.hdf5\n",
      "Epoch 46/50\n",
      " - 0s - loss: 0.0025 - acc: 1.0000 - val_loss: 0.0028 - val_acc: 1.0000\n"
     ]
    },
    {
     "name": "stdout",
     "output_type": "stream",
     "text": [
      "\n",
      "Epoch 00046: val_loss improved from 0.00298 to 0.00285, saving model to model.weights.best.hdf5\n",
      "Epoch 47/50\n",
      " - 0s - loss: 0.0049 - acc: 1.0000 - val_loss: 0.0027 - val_acc: 1.0000\n",
      "\n",
      "Epoch 00047: val_loss improved from 0.00285 to 0.00271, saving model to model.weights.best.hdf5\n",
      "Epoch 48/50\n",
      " - 0s - loss: 0.0020 - acc: 1.0000 - val_loss: 0.0026 - val_acc: 1.0000\n",
      "\n",
      "Epoch 00048: val_loss improved from 0.00271 to 0.00258, saving model to model.weights.best.hdf5\n",
      "Epoch 49/50\n",
      " - 0s - loss: 0.0014 - acc: 1.0000 - val_loss: 0.0025 - val_acc: 1.0000\n",
      "\n",
      "Epoch 00049: val_loss improved from 0.00258 to 0.00248, saving model to model.weights.best.hdf5\n",
      "Epoch 50/50\n",
      " - 0s - loss: 0.0025 - acc: 1.0000 - val_loss: 0.0024 - val_acc: 1.0000\n",
      "\n",
      "Epoch 00050: val_loss improved from 0.00248 to 0.00239, saving model to model.weights.best.hdf5\n"
     ]
    }
   ],
   "source": [
    "# fit combined models to data\n",
    "\n",
    "from keras.callbacks import ModelCheckpoint   \n",
    "\n",
    "# train the model\n",
    "checkpointer = ModelCheckpoint(filepath='model.weights.best.hdf5', verbose=1, \n",
    "                               save_best_only=True)\n",
    "\n",
    "predict = model.fit(train_data, train_labels,\n",
    "             epochs=epochs,\n",
    "             batch_size=batch_size,\n",
    "             validation_data=(validation_data, validation_labels), callbacks=[checkpointer], verbose =2)\n"
   ]
  },
  {
   "cell_type": "code",
   "execution_count": 83,
   "metadata": {},
   "outputs": [
    {
     "name": "stdout",
     "output_type": "stream",
     "text": [
      "<keras.callbacks.History object at 0x000000000F7C4EB8>\n"
     ]
    }
   ],
   "source": [
    "print(predict)"
   ]
  },
  {
   "cell_type": "code",
   "execution_count": 84,
   "metadata": {},
   "outputs": [
    {
     "name": "stdout",
     "output_type": "stream",
     "text": [
      "dict_keys(['val_loss', 'val_acc', 'loss', 'acc'])\n"
     ]
    }
   ],
   "source": [
    "print(predict.history.keys())"
   ]
  },
  {
   "cell_type": "code",
   "execution_count": 85,
   "metadata": {},
   "outputs": [
    {
     "name": "stdout",
     "output_type": "stream",
     "text": [
      "dict_keys(['val_loss', 'val_acc', 'loss', 'acc'])\n"
     ]
    },
    {
     "data": {
      "image/png": "[encoded data removed]",
      "text/plain": [
       "<Figure size 432x288 with 1 Axes>"
      ]
     },
     "metadata": {},
     "output_type": "display_data"
    }
   ],
   "source": [
    "import matplotlib.pyplot as plt\n",
    "%matplotlib inline\n",
    "\n",
    "print(predict.history.keys())\n",
    "plt.plot(predict.history['acc'])\n",
    "plt.plot(predict.history['val_acc'])\n",
    "plt.title('model accuracy')\n",
    "plt.ylabel('accuracy')\n",
    "plt.xlabel('epoch')\n",
    "plt.legend(['train', 'val'], loc='lower right')\n",
    "plt.show()"
   ]
  },
  {
   "cell_type": "code",
   "execution_count": 86,
   "metadata": {},
   "outputs": [],
   "source": [
    "#load best trained weights\n",
    "\n",
    "model.load_weights('model.weights.best.hdf5')"
   ]
  },
  {
   "cell_type": "code",
   "execution_count": 87,
   "metadata": {},
   "outputs": [
    {
     "name": "stdout",
     "output_type": "stream",
     "text": [
      "6/6 [==============================] - 0s 333us/step\n",
      "\n",
      " Test accuracy: 0.6666666865348816\n"
     ]
    }
   ],
   "source": [
    "\n",
    "#use model predict to create bottleneck weights from VGG16 & save to .npy file\n",
    "\n",
    "#test_labels = model.evaluate_generator(generator, steps=len(generator), workers=1, use_multiprocessing=False)\n",
    "\n",
    "#probabilities = model.predict_generator(generator, 6)\n",
    "\n",
    "#from sklearn.metrics import confusion_matrix\n",
    "\n",
    "#y_true = np.array([0] * 1000 + [1] * 1000)\n",
    "#y_pred = probabilities > 0.5\n",
    "\n",
    "#confusion_matrix(y_true, y_pred)\n",
    "\n",
    "score = model.evaluate(test_data, test_labels, verbose=1)\n",
    "print('\\n', 'Test accuracy:', score[1])\n"
   ]
  }
 ],
 "metadata": {
  "kernelspec": {
   "display_name": "Python 3",
   "language": "python",
   "name": "python3"
  },
  "language_info": {
   "codemirror_mode": {
    "name": "ipython",
    "version": 3
   },
   "file_extension": ".py",
   "mimetype": "text/x-python",
   "name": "python",
   "nbconvert_exporter": "python",
   "pygments_lexer": "ipython3",
   "version": "3.6.6"
  }
 },
 "nbformat": 4,
 "nbformat_minor": 2
}
